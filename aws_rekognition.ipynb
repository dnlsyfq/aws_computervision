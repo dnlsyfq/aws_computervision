{
 "metadata": {
  "language_info": {
   "codemirror_mode": {
    "name": "ipython",
    "version": 3
   },
   "file_extension": ".py",
   "mimetype": "text/x-python",
   "name": "python",
   "nbconvert_exporter": "python",
   "pygments_lexer": "ipython3",
   "version": 3
  },
  "orig_nbformat": 2
 },
 "nbformat": 4,
 "nbformat_minor": 2,
 "cells": [
  {
   "source": [
    "* Object and scene detection\n",
    "* Facial analysis\n",
    "    * Demographic\n",
    "    * Facial landmarks\n",
    "    * Image quality\n",
    "    * Emotion expressed\n",
    "    * General attributes\n",
    "    * Facial pose\n",
    "* Face comparison\n",
    "* Facial recognition\n",
    "* Confidence scores on processed images"
   ],
   "cell_type": "markdown",
   "metadata": {}
  },
  {
   "source": [
    "<img src=\"img/1.PNG\">\n",
    "<img src=\"img/2.PNG\">\n",
    "<img src=\"img/3.PNG\">\n",
    "\n",
    "\n",
    "\n",
    "\n"
   ],
   "cell_type": "markdown",
   "metadata": {}
  },
  {
   "source": [
    "## Function for still images\n",
    "\n",
    "|Function|Description|\n",
    "|---|---|\n",
    "|CompareFaces|Match face between images|\n",
    "|DetectFaces|Find up to 100 faces in an image|\n",
    "|DetectLabels|Find real-world entities in an image|\n",
    "|DetectModerationLabels|Detect adult content|\n",
    "|DetectText|Find machine-readable text|\n",
    "|IndexFaces|Add 100 faces in an image to a collection|\n",
    "|RegognizeCelebrities|Identify up to 100 celebrities in an image|\n",
    "|SearchFaces|Find a face ID in a face collection|\n",
    "|SearchFacesByImage|Find largest face in a face collection|\n"
   ],
   "cell_type": "markdown",
   "metadata": {}
  },
  {
   "source": [
    "## Function for stored videos\n",
    "\n",
    "|Function|Description|\n",
    "|---|---|\n",
    "|StartCelebrityRecognition|Recognize celebrities in a stored video|\n",
    "|StartContentModeration|Detect adult content in a stored video|\n",
    "|StartFaceDetection|Detect faces in a stored video|\n",
    "|StartFaceSearch|Search for faces in a collection that match faces of persons detected in a stored video|\n",
    "|StartLabelDetection|Detect real-world entities in a video|\n",
    "|StartPersonTracking|Track persons in a stored video|"
   ],
   "cell_type": "markdown",
   "metadata": {}
  },
  {
   "source": [
    "<img src=\"img/6.PNG\">\n"
   ],
   "cell_type": "markdown",
   "metadata": {}
  },
  {
   "source": [
    "<img src=\"img/7.PNG\">"
   ],
   "cell_type": "markdown",
   "metadata": {}
  },
  {
   "cell_type": "code",
   "execution_count": null,
   "metadata": {},
   "outputs": [],
   "source": [
    "Image API\n",
    "* DetectLabels\n",
    "Video API\n",
    "* StartLabelDetection"
   ]
  },
  {
   "source": [
    "### Image\n",
    "* Format : PNG / JPEG\n",
    "* Resolution : Min 80PX\n",
    "* Size : \n",
    "    * S3 : 15 mb\n",
    "    * API Calls : 5mb (base64 encoded) \n",
    "\n",
    "### Video\n",
    "* Format : MP4 / MOV\n",
    "* Codec : H264\n",
    "* Size : 8gb"
   ],
   "cell_type": "markdown",
   "metadata": {}
  },
  {
   "source": [
    "* Collection for faces\n",
    "* Max no. of faces in single collection : 20 million\n",
    "* Max matching faces via search API : 4096"
   ],
   "cell_type": "markdown",
   "metadata": {}
  },
  {
   "cell_type": "code",
   "execution_count": null,
   "metadata": {},
   "outputs": [],
   "source": []
  }
 ]
}