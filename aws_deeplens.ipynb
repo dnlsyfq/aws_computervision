{
 "metadata": {
  "language_info": {
   "codemirror_mode": {
    "name": "ipython",
    "version": 3
   },
   "file_extension": ".py",
   "mimetype": "text/x-python",
   "name": "python",
   "nbconvert_exporter": "python",
   "pygments_lexer": "ipython3",
   "version": 3
  },
  "orig_nbformat": 2
 },
 "nbformat": 4,
 "nbformat_minor": 2,
 "cells": [
  {
   "cell_type": "code",
   "execution_count": null,
   "metadata": {},
   "outputs": [],
   "source": [
    "* wireless enabled camera and development platform integrated with aws \n",
    "* aws deeplens create cv application \n",
    "* to use aws deeplens , together with other common services :\n",
    "    * aws sagemaker : train and validate custom model or import pretrained model\n",
    "    * aws lambda : preprocessing , make inferences , displaying output\n",
    "    * aws greengrass : deploy application project and lambda runtime "
   ]
  },
  {
   "source": [
    "<img src=\"img/4.PNG\">"
   ],
   "cell_type": "markdown",
   "metadata": {}
  },
  {
   "source": [
    "Create custom model using :\n",
    "* MXNet\n",
    "* Tensorflow\n",
    "* Caffe\n",
    "\n"
   ],
   "cell_type": "markdown",
   "metadata": {}
  },
  {
   "source": [
    "<img src=\"img/5.PNG\">\n"
   ],
   "cell_type": "markdown",
   "metadata": {}
  },
  {
   "cell_type": "code",
   "execution_count": null,
   "metadata": {},
   "outputs": [],
   "source": [
    "AWS DeepLens\n",
    "1. Resources\n",
    "2. Projects\n",
    "3. Create New Project\n",
    "4. Use a project template\n",
    "5. Project templates -> Object detection\n",
    "6. Accept default values -> Create \n",
    "7. Select projects on the list -> Deploy to device \n",
    "8. Target devices from the list -> Review \n",
    "9. Deploy \n",
    "10. Project Output tab -> copy topic \n",
    "11. Go to AWS IoT console \n",
    "12. Paste to Subscription Topic "
   ]
  }
 ]
}